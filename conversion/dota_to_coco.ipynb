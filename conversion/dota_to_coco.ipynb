{
 "cells": [
  {
   "cell_type": "code",
   "execution_count": 12,
   "id": "90a6eb5a",
   "metadata": {},
   "outputs": [],
   "source": [
    "import os\n",
    "import json\n",
    "import glob\n",
    "from PIL import Image\n",
    "from tqdm import tqdm  # optional"
   ]
  },
  {
   "cell_type": "code",
   "execution_count": null,
   "id": "69cb4b7f",
   "metadata": {},
   "outputs": [],
   "source": [
    "# --- Configuration ---\n",
    "DATA_ROOT       = \"/home/shardul.junagade/my-work/domain-adaptation-brick-kilns/data/thera_rdn_pro/haryana_4x\"\n",
    "OUTPUT_JSON     = \"../coco_data/haryana_4x_thera.json\"\n",
    "\n",
    "\n",
    "IMAGE_DIR       = os.path.join(DATA_ROOT, \"images_png\")\n",
    "ANNOT_DIR       = os.path.join(DATA_ROOT, \"annfiles\")\n",
    "CATEGORIES      = [  # as defined above\n",
    "    {\"id\": 0,  \"name\": \"CFCBK\",  \"supercategory\": \"object\"},\n",
    "    {\"id\": 1,  \"name\": \"FCBK\",   \"supercategory\": \"object\"},\n",
    "    {\"id\": 2,  \"name\": \"Zigzag\", \"supercategory\": \"object\"},\n",
    "]"
   ]
  },
  {
   "cell_type": "code",
   "execution_count": 14,
   "id": "b206b9e7",
   "metadata": {},
   "outputs": [
    {
     "name": "stderr",
     "output_type": "stream",
     "text": [
      "100%|██████████| 586/586 [00:00<00:00, 13287.18it/s]"
     ]
    },
    {
     "name": "stdout",
     "output_type": "stream",
     "text": [
      "Saved COCO annotations to ../coco_data/haryana_4x.json\n"
     ]
    },
    {
     "name": "stderr",
     "output_type": "stream",
     "text": [
      "\n"
     ]
    }
   ],
   "source": [
    "# --- Helper to map category name to ID ---\n",
    "cat_name_to_id = {c[\"name\"]: c[\"id\"] for c in CATEGORIES}\n",
    "\n",
    "# --- Initialize COCO structure ---\n",
    "coco = {\n",
    "    \"info\": {\n",
    "        \"description\": \"DOTA to COCO conversion\",\n",
    "        \"version\": \"1.0\",\n",
    "        \"year\": 2025\n",
    "    },\n",
    "    \"licenses\": [],\n",
    "    \"images\": [],\n",
    "    \"annotations\": [],\n",
    "    \"categories\": CATEGORIES\n",
    "}\n",
    "\n",
    "ann_id = 0\n",
    "img_id = 0\n",
    "\n",
    "# --- Process each annotation file ---\n",
    "\n",
    "for img_path in tqdm(sorted(glob.glob(os.path.join(IMAGE_DIR, \"*.png\")))):\n",
    "    base = os.path.basename(img_path).rsplit(\".\", 1)[0]\n",
    "    ann_path = os.path.join(ANNOT_DIR, base + \".txt\")\n",
    "\n",
    "    # Load image to get size\n",
    "    with Image.open(img_path) as img:\n",
    "        width, height = img.size\n",
    "\n",
    "    # Add image entry\n",
    "    coco[\"images\"].append({\n",
    "        \"id\": img_id,\n",
    "        \"file_name\": f\"{base}.png\",\n",
    "        \"width\": width,\n",
    "        \"height\": height\n",
    "    })\n",
    "\n",
    "    if os.path.isfile(ann_path):\n",
    "    # Read DOTA OBB annotations\n",
    "        with open(ann_path, 'r') as f:\n",
    "            lines = [l for l in f if l.strip()]\n",
    "        for line in lines:\n",
    "            parts = line.strip().split()\n",
    "            coords = list(map(float, parts[:8]))  # x1,y1,...,x4,y4\n",
    "            category = parts[8]\n",
    "            difficulty = int(parts[9])\n",
    "\n",
    "            # Skip difficult if desired:\n",
    "            # if difficulty == 1:\n",
    "            #     continue\n",
    "\n",
    "            xs = coords[0::2]\n",
    "            ys = coords[1::2]\n",
    "            x_min, y_min = min(xs), min(ys)\n",
    "            x_max, y_max = max(xs), max(ys)\n",
    "            w = x_max - x_min\n",
    "            h = y_max - y_min\n",
    "\n",
    "            coco[\"annotations\"].append({\n",
    "                \"id\": ann_id,\n",
    "                \"image_id\": img_id,\n",
    "                \"category_id\": cat_name_to_id[category],\n",
    "                \"bbox\": [x_min, y_min, w, h],\n",
    "                \"area\": w * h,\n",
    "                \"iscrowd\": 0,\n",
    "                \"segmentation\": [coords],  # single polygon\n",
    "            })\n",
    "            ann_id += 1\n",
    "\n",
    "    img_id += 1\n",
    "\n",
    "# --- Save to JSON ---\n",
    "with open(OUTPUT_JSON, 'w') as f:\n",
    "    json.dump(coco, f, indent=2)\n",
    "\n",
    "print(f\"Saved COCO annotations to {OUTPUT_JSON}\")\n"
   ]
  },
  {
   "cell_type": "code",
   "execution_count": null,
   "id": "3778a3b4",
   "metadata": {},
   "outputs": [],
   "source": []
  }
 ],
 "metadata": {
  "kernelspec": {
   "display_name": ".venv (3.11.7)",
   "language": "python",
   "name": "python3"
  },
  "language_info": {
   "codemirror_mode": {
    "name": "ipython",
    "version": 3
   },
   "file_extension": ".py",
   "mimetype": "text/x-python",
   "name": "python",
   "nbconvert_exporter": "python",
   "pygments_lexer": "ipython3",
   "version": "3.11.7"
  }
 },
 "nbformat": 4,
 "nbformat_minor": 5
}
